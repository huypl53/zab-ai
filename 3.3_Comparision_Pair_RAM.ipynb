{
 "cells": [
  {
   "cell_type": "code",
   "execution_count": null,
   "metadata": {},
   "outputs": [],
   "source": [
    "import os\n",
    "import pandas as pd\n",
    "import matplotlib.pyplot as plt\n",
    "\n",
    "def load_json_files_from_folder(folder_path):\n",
    "    json_files = [f for f in os.listdir(folder_path) if f.endswith('.json')]\n",
    "    dataframes = {}\n",
    "    for file in json_files:\n",
    "        file_path = os.path.join(folder_path, file)\n",
    "        df = pd.read_json(file_path)\n",
    "        dataframes[file] = df\n",
    "    return dataframes\n",
    "\n",
    "def plot_history_and_trend(history_df, trend_df, item_id, ax1, ax2):\n",
    "    history_df['datetime'] = pd.to_datetime(history_df['clock'], unit='s')\n",
    "    trend_df['datetime'] = pd.to_datetime(trend_df['clock'], unit='s')\n",
    "\n",
    "    # Plot history data\n",
    "    ax1.plot(history_df['datetime'], history_df['value'], label='History Value')\n",
    "    ax1.set_xlabel('Datetime')\n",
    "    ax1.set_ylabel('Value')\n",
    "    ax1.set_title(f'History Data for Item {item_id}')\n",
    "    ax1.legend()\n",
    "    ax1.grid(True)\n",
    "    plt.setp(ax1.xaxis.get_majorticklabels(), rotation=45)\n",
    "    \n",
    "    # Plot trend data\n",
    "    ax2.plot(trend_df['datetime'], trend_df['value_max'], label='Trend Average Value')\n",
    "    ax2.set_xlabel('Datetime')\n",
    "    ax2.set_title(f'Trend Data for Item {item_id}')\n",
    "    ax2.legend()\n",
    "    ax2.grid(True)\n",
    "    plt.setp(ax2.xaxis.get_majorticklabels(), rotation=45)"
   ]
  },
  {
   "cell_type": "code",
   "execution_count": null,
   "metadata": {},
   "outputs": [],
   "source": [
    "# Define the folders\n",
    "history_folder = './210.152.81.172/history'\n",
    "trend_folder = './210.152.81.172/trend'\n",
    "\n",
    "# Load the data from folders\n",
    "history_data = load_json_files_from_folder(history_folder)\n",
    "trend_data = load_json_files_from_folder(trend_folder)\n",
    "\n",
    "# Create a figure to hold the subplots\n",
    "num_pairs = len(history_data)\n",
    "num_rows = (num_pairs + 1) // 2\n",
    "fig, axes = plt.subplots(num_rows, 4, figsize=(20, num_pairs * 3), sharey=True)\n",
    "\n",
    "# Flatten axes array for easy indexing\n",
    "axes = axes.flatten()\n",
    "\n",
    "pair_index = 0\n",
    "for history_file in history_data:\n",
    "    item_id = history_file.split('_')[2].split('.')[0]  # Extract item_id from the file name\n",
    "    trend_file = f'item_trend_{item_id}.json'\n",
    "    \n",
    "    if trend_file in trend_data:\n",
    "        history_df = history_data[history_file]\n",
    "        trend_df = trend_data[trend_file]\n",
    "        ax1, ax2 = axes[pair_index*2], axes[pair_index*2 + 1]\n",
    "        plot_history_and_trend(history_df, trend_df, item_id, ax1, ax2)\n",
    "        pair_index += 1\n",
    "\n",
    "plt.tight_layout()\n",
    "plt.show()"
   ]
  }
 ],
 "metadata": {
  "kernelspec": {
   "display_name": "torch",
   "language": "python",
   "name": "python3"
  },
  "language_info": {
   "codemirror_mode": {
    "name": "ipython",
    "version": 3
   },
   "file_extension": ".py",
   "mimetype": "text/x-python",
   "name": "python",
   "nbconvert_exporter": "python",
   "pygments_lexer": "ipython3",
   "version": "3.10.12"
  }
 },
 "nbformat": 4,
 "nbformat_minor": 2
}
